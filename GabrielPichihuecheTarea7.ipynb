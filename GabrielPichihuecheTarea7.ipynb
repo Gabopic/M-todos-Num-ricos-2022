{
 "cells": [
  {
   "cell_type": "markdown",
   "id": "0ededd22-d805-46b5-9cdb-856b7a97803d",
   "metadata": {},
   "source": [
    "## Tarea 7.3"
   ]
  },
  {
   "cell_type": "markdown",
   "id": "68030fc3-7a70-4e7e-b5ce-7f9bd8a9e26e",
   "metadata": {},
   "source": [
    "Gabriel Pichihueche\n",
    "\n",
    "Un abrevadero (contenedor de agua para dar de beber a los animales) es mitad de un cilindro. Tiene una sección transversal a forma de semi-círculo de radio $r = 48.934$ cm y una longitud $L = 1.3245$ m. Si el volumen del agua contenido es de $10.013$ litros, encuentre la profundidad del agua en metros con una precisión de cinco cifras decimales. (Para lograrlo, primero use algunas iteraciones del método de bisección y así obtener un par de puntos iniciales para el método de Newton.)."
   ]
  },
  {
   "cell_type": "code",
   "execution_count": 1,
   "id": "6269b2e2-6b8f-4eea-a846-c92302f85a35",
   "metadata": {},
   "outputs": [],
   "source": [
    "import numpy as np"
   ]
  },
  {
   "cell_type": "markdown",
   "id": "8a4040e5-fa66-48c6-bac9-00fdae4954e6",
   "metadata": {},
   "source": [
    "Primero definimos nuestra función de diferencia volumen para aplicarle bisección, esta función está definida como: \n",
    "\n",
    "Volumen en función de la altura - Volumen de Agua en el abrevadero\n",
    "\n",
    "En este caso por geometría obtuvimos una fórmula para el área transversal de agua, luego multiplicamos esta\n",
    "por la longitud y obtenemos el volumen de agua."
   ]
  },
  {
   "cell_type": "code",
   "execution_count": 2,
   "id": "c0783a5f-9ab5-497a-a868-f3cff79c396b",
   "metadata": {},
   "outputs": [],
   "source": [
    "def volumen(altura):\n",
    "    return (((np.pi*0.48934**2)/2)-(0.48934*(0.48934-altura)*np.sin(np.arccos((0.48934-altura)/0.48934))+\\\n",
    "              0.48934**2*((np.pi/2)-np.arccos((0.48934-altura)/0.48934))))*1.3245-0.010013"
   ]
  },
  {
   "cell_type": "markdown",
   "id": "3a4f6de1-45d2-4e77-9fc6-d4b5b434f834",
   "metadata": {},
   "source": [
    "Ahora definimos nuestra función de bisección y la aplicamos a la función de volumen. Usamos el intervalo entre 0 y 0.48934 (metros) para la bisección."
   ]
  },
  {
   "cell_type": "code",
   "execution_count": 3,
   "id": "1c370c25-3f96-4899-9ab5-d3d7b8448a63",
   "metadata": {},
   "outputs": [],
   "source": [
    "def bisection(función, a, b, epsilon, N_iteraciones=1000000):\n",
    "\n",
    "    p1 = a\n",
    "    for i in range(N_iteraciones):\n",
    "        p = a + (b - a)/2\n",
    "        print(p)\n",
    "        if abs(p - p1)/abs(p) < epsilon:\n",
    "            return p\n",
    "        elif función(p)*función(a) > 0:\n",
    "            a = p\n",
    "        else:\n",
    "            b = p\n",
    "        p1 = p\n",
    "    print(\"No se encontró el cero después de\", N_iteraciones, \"iteraciones\")"
   ]
  },
  {
   "cell_type": "code",
   "execution_count": 4,
   "id": "2ae5fd6e-3b52-4584-82df-53ef320f16c3",
   "metadata": {},
   "outputs": [
    {
     "name": "stdout",
     "output_type": "stream",
     "text": [
      "0.24467\n",
      "0.122335\n",
      "0.0611675\n",
      "0.03058375\n",
      "0.045875625\n",
      "0.0382296875\n",
      "0.034406718749999995\n",
      "0.032495234375\n",
      "0.031539492187500004\n",
      "0.03201736328125\n",
      "0.032256298828125\n",
      "0.0321368310546875\n",
      "0.032196564941406255\n",
      "0.03222643188476563\n",
      "0.03224136535644531\n",
      "0.03223389862060547\n",
      "0.03223763198852539\n",
      "0.03223949867248535\n"
     ]
    },
    {
     "data": {
      "text/plain": [
       "0.03223949867248535"
      ]
     },
     "execution_count": 4,
     "metadata": {},
     "output_type": "execute_result"
    }
   ],
   "source": [
    "bisection(volumen,0,0.48934,0.0001)"
   ]
  },
  {
   "cell_type": "markdown",
   "id": "25999ae5-a10f-430b-8370-3d60a9f3bfcd",
   "metadata": {},
   "source": [
    "Vemos que en 13 iteraciones la altura resultante (profundidad en este caso) que se obtiene es de 0.03223949867248535 metros.\n",
    "\n",
    "Ahora corramos la función volumen para verificar:"
   ]
  },
  {
   "cell_type": "code",
   "execution_count": 5,
   "id": "5e8499a9-381a-467b-874d-3ff66346a5d3",
   "metadata": {},
   "outputs": [
    {
     "data": {
      "text/plain": [
       "-2.2723619213897706e-07"
      ]
     },
     "execution_count": 5,
     "metadata": {},
     "output_type": "execute_result"
    }
   ],
   "source": [
    "volumen(0.03223949867248535)"
   ]
  },
  {
   "cell_type": "markdown",
   "id": "87434b5c-e56e-4f9b-afaf-384b26417c41",
   "metadata": {},
   "source": [
    "Vemos que la diferencia entre el volumen aproximado por bisección y el volumen real es muy baja."
   ]
  },
  {
   "cell_type": "markdown",
   "id": "8ee565f9-1e74-43ab-aa85-7f48732ddee7",
   "metadata": {},
   "source": [
    "Ahora antes de que apliquemos el método de Newton tenemos que definir una función que contenga la derivada respecto de la altura de la función de volumen:"
   ]
  },
  {
   "cell_type": "code",
   "execution_count": 6,
   "id": "bf3e3b53-e514-49ba-8c24-444c95f31241",
   "metadata": {},
   "outputs": [],
   "source": [
    "def derivada_volumen(altura):\n",
    "    return ((2.04356*altura**2-2*altura-0.15879083)/np.sqrt(-4.17617*altura**2+4.08713*altura))-\\\n",
    "             0.48934*np.sqrt(-4.17617*altura**2+4.08713*altura)"
   ]
  },
  {
   "cell_type": "markdown",
   "id": "4cad5e46-a683-498d-96ed-47fc075fbe4b",
   "metadata": {},
   "source": [
    "Ahora definimos nuestra función para el método de Newton y la aplicamos, usamos de valor inicial el valor obtenido por bisección:"
   ]
  },
  {
   "cell_type": "code",
   "execution_count": 7,
   "id": "6a4b580f-a7e4-4909-b72d-aafa601de72c",
   "metadata": {},
   "outputs": [],
   "source": [
    "def newton(función, derivada, valor_inicial, epsilon, N_iteraciones=1000000):\n",
    "    \n",
    "    for i in range(N_iteraciones):\n",
    "        p = valor_inicial - función(valor_inicial)/derivada(valor_inicial)\n",
    "        if abs(p - valor_inicial)/abs(p) < epsilon:\n",
    "            return p, i+1\n",
    "        valor_inicial = p\n",
    "    \n",
    "    print(\"No se encontró el cero luego de\", N_iteraciones, \"iteraciones.\")"
   ]
  },
  {
   "cell_type": "code",
   "execution_count": 8,
   "id": "3018d9ed-067a-4a71-adab-9afebbb71736",
   "metadata": {},
   "outputs": [
    {
     "data": {
      "text/plain": [
       "(0.03223921254921699, 1)"
      ]
     },
     "execution_count": 8,
     "metadata": {},
     "output_type": "execute_result"
    }
   ],
   "source": [
    "newton(volumen,derivada_volumen,0.03223949867248535,0.00001)"
   ]
  },
  {
   "cell_type": "markdown",
   "id": "8dc2a7a8-73a8-4c52-ac01-47f7c1bc5729",
   "metadata": {},
   "source": [
    "Vemos que se obtuvo el resultado en 1 iteración, la profundidad en este caso es de 0.03223921254921699 metros, veamos que tanto se acerca al valor real:"
   ]
  },
  {
   "cell_type": "code",
   "execution_count": 9,
   "id": "5c3292b1-fa1f-4a7d-82d2-c3a4869166a8",
   "metadata": {},
   "outputs": [
    {
     "data": {
      "text/plain": [
       "-3.5963223440904635e-07"
      ]
     },
     "execution_count": 9,
     "metadata": {},
     "output_type": "execute_result"
    }
   ],
   "source": [
    "volumen(0.03223921254921699)"
   ]
  },
  {
   "cell_type": "markdown",
   "id": "3d9b2e64-56db-407f-80d6-4fd12915b404",
   "metadata": {},
   "source": [
    "Vemos que la diferencia sigue siendo muy muy pequeña."
   ]
  },
  {
   "cell_type": "markdown",
   "id": "a829f53b",
   "metadata": {},
   "source": [
    "# Calificación: 6.8"
   ]
  },
  {
   "cell_type": "markdown",
   "id": "aa6824b5",
   "metadata": {},
   "source": [
    "La fórmula correcta del volumen es:\n",
    "\n",
    "$$\n",
    "V = L\\left(\\cos^{-1}\\left(\\frac{(r - p)}{r}\\right) r^2 - \\frac{1}{2}(r - p)\\sqrt{r^2 + (r - p)^2}\\right)\n",
    "$$"
   ]
  },
  {
   "cell_type": "markdown",
   "id": "62d3510a",
   "metadata": {},
   "source": []
  }
 ],
 "metadata": {
  "kernelspec": {
   "display_name": "Python 3 (ipykernel)",
   "language": "python",
   "name": "python3"
  },
  "language_info": {
   "codemirror_mode": {
    "name": "ipython",
    "version": 3
   },
   "file_extension": ".py",
   "mimetype": "text/x-python",
   "name": "python",
   "nbconvert_exporter": "python",
   "pygments_lexer": "ipython3",
   "version": "3.9.7"
  }
 },
 "nbformat": 4,
 "nbformat_minor": 5
}
