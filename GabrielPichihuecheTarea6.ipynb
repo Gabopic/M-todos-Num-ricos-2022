{
 "cells": [
  {
   "cell_type": "markdown",
   "id": "76a690a7-f192-4992-a763-f4d250c9a1f7",
   "metadata": {},
   "source": [
    "## Tarea 6.8\n",
    "\n",
    "Gabriel Pichihueche"
   ]
  },
  {
   "cell_type": "markdown",
   "id": "bc91bab2-e23d-4eb6-9c01-f630bfa4d1e0",
   "metadata": {},
   "source": [
    "Busque un ejemplo de una función tal que el método de bisección con la condición $|p_n - p_{n-1}|/|p_n| < \\epsilon$ converge siempre a un valor que no es un cero de la función."
   ]
  },
  {
   "cell_type": "code",
   "execution_count": 1,
   "id": "d818f57f-ad5a-4a04-883e-689e86391d2f",
   "metadata": {},
   "outputs": [],
   "source": [
    "import numpy as np"
   ]
  },
  {
   "cell_type": "markdown",
   "id": "276a1e9f-9a01-44d5-aa79-31796b315462",
   "metadata": {},
   "source": [
    "El método de bisección funciona para funciones continuas entre a y b, con a<b tal que f(a)f(b)<0"
   ]
  },
  {
   "cell_type": "code",
   "execution_count": 2,
   "id": "ad0b4f62-1819-4dbe-b596-6c3a3eb63024",
   "metadata": {},
   "outputs": [],
   "source": [
    "def func(x):\n",
    "    return x**2"
   ]
  },
  {
   "cell_type": "markdown",
   "id": "d13e2266-fcca-48fa-9aee-459178da74eb",
   "metadata": {},
   "source": [
    "Utilizaremos una función en la cual nunca vamos a tener el caso en que f(a)f(b)<0, está función es y=x^2.\n",
    "Definimos nuestra función de bisección:"
   ]
  },
  {
   "cell_type": "code",
   "execution_count": 3,
   "id": "89be9893-6456-41b2-b9f8-5cb3f11735a1",
   "metadata": {},
   "outputs": [],
   "source": [
    "def bisection(f, a, b, e, N=1000000):\n",
    "\n",
    "    p1 = a\n",
    "    for i in range(N):\n",
    "        p = a + (b - a)/2\n",
    "        print(p)\n",
    "        if abs(p - p1)/abs(p) < e:\n",
    "            return p\n",
    "        elif f(p)*f(a) > 0:\n",
    "            a = p\n",
    "        else:\n",
    "            b = p\n",
    "        p1 = p\n",
    "    print(\"No se encontró el cero después de\", N, \"iteraciones\")"
   ]
  },
  {
   "cell_type": "code",
   "execution_count": 4,
   "id": "b134eaed-ffb7-4b62-b329-81fbedd063b4",
   "metadata": {
    "tags": []
   },
   "outputs": [
    {
     "name": "stdout",
     "output_type": "stream",
     "text": [
      "2.0\n",
      "7.5\n",
      "10.25\n",
      "11.625\n",
      "12.3125\n",
      "12.65625\n",
      "12.828125\n",
      "12.9140625\n",
      "12.95703125\n",
      "12.978515625\n",
      "12.9892578125\n",
      "12.99462890625\n",
      "12.997314453125\n",
      "12.9986572265625\n",
      "12.99932861328125\n",
      "12.999664306640625\n",
      "12.999832153320312\n",
      "12.999916076660156\n"
     ]
    },
    {
     "data": {
      "text/plain": [
       "12.999916076660156"
      ]
     },
     "execution_count": 4,
     "metadata": {},
     "output_type": "execute_result"
    }
   ],
   "source": [
    "bisection(func,-9,13,0.00001)"
   ]
  },
  {
   "cell_type": "markdown",
   "id": "bfa88367-d3c3-4a6f-b879-14342e01aef1",
   "metadata": {},
   "source": [
    "Vemos que la bisección siempre converge hacia b, ya que en este caso por cada interación siempre se va a cumplir que f(a)f(p)>0"
   ]
  }
 ],
 "metadata": {
  "kernelspec": {
   "display_name": "Python 3 (ipykernel)",
   "language": "python",
   "name": "python3"
  },
  "language_info": {
   "codemirror_mode": {
    "name": "ipython",
    "version": 3
   },
   "file_extension": ".py",
   "mimetype": "text/x-python",
   "name": "python",
   "nbconvert_exporter": "python",
   "pygments_lexer": "ipython3",
   "version": "3.9.7"
  }
 },
 "nbformat": 4,
 "nbformat_minor": 5
}
