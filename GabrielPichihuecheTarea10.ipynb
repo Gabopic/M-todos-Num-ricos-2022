{
 "cells": [
  {
   "cell_type": "markdown",
   "metadata": {},
   "source": [
    "### Tarea 10.1"
   ]
  },
  {
   "cell_type": "markdown",
   "metadata": {},
   "source": [
    "Gabriel Pichihueche\n",
    "\n",
    "Calcule las siguientes integrales\n",
    "\n",
    "$$\n",
    "\\int_1^\\infty dx\\,\\frac{\\log(x)x^{1/2}}{(x^2 + 3)}\n",
    "$$\n",
    "\n",
    "$$\n",
    "\\int_1^\\infty dx\\,\\ln(x)\\ \\sin(x)\n",
    "$$\n",
    "\n",
    "**Pista:** Al aislar la divergencia, escriba $\\log(x)f(x)/x^p$, luego expanda en Taylor $f(x)$ y las integrales resultantes con integrandos del tipo $x^n \\log(x)$ tienen solución analítica."
   ]
  },
  {
   "cell_type": "code",
   "execution_count": 7,
   "metadata": {},
   "outputs": [],
   "source": [
    "import numpy as np"
   ]
  },
  {
   "cell_type": "markdown",
   "metadata": {},
   "source": [
    "Aplicamos el cambio de variable dado en la pista:\n",
    "\n",
    "$$\n",
    "\\int_1^{\\infty}dx\\,f(x) = \\int_{0}^{1}dy\\,\\frac{\\log(y)f(y)}{y^p}\n",
    "$$\n",
    "\n",
    "con y= 1/x y p=2,\n",
    "expandimos f(y) en Taylor"
   ]
  },
  {
   "cell_type": "markdown",
   "metadata": {},
   "source": [
    "$$\n",
    "f(y) \\approx P_m(y) = \\sum_{n=0}^m \\frac{1}{n!}(y)^n \\frac{d^nf}{dy^n}(0)\n",
    "$$\n",
    "\n",
    "Luego\n",
    "\n",
    "$$\n",
    "\\int_0^1 dx\\,\\frac{\\log(y)P_m(y)}{y^2} = \\frac{1}{1} \\sum_{n=0}^m \\frac{1}{(n+1)n!}(1)^{(n)} \\frac{d^nf}{dy^n}(0)\n",
    "$$"
   ]
  },
  {
   "cell_type": "code",
   "execution_count": 8,
   "metadata": {},
   "outputs": [],
   "source": [
    "def gauss_quad_5(f, a, b):\n",
    "    \n",
    "    def x(t):\n",
    "        return ((b - a)*t + a + b)/2\n",
    "    \n",
    "    c = [0.2369268850, 0.4786286705, 0.5688888889, 0.4786286705, 0.2369268850]\n",
    "    r = [0.9061798459, 0.5384693101, 0.0000000000, -0.5384693101, -0.9061798459]\n",
    "    \n",
    "    return ((b-a)/2)*sum(c[i]*f(x(r[i])) for i in range(5))"
   ]
  },
  {
   "cell_type": "code",
   "execution_count": 15,
   "metadata": {},
   "outputs": [
    {
     "data": {
      "text/plain": [
       "-142.68332616066994"
      ]
     },
     "execution_count": 15,
     "metadata": {},
     "output_type": "execute_result"
    }
   ],
   "source": [
    "poly = sum(1/((n+1)*np.math.factorial(n)) for n in range(4))\n",
    "\n",
    "def fp(x):\n",
    "    if x == 0:\n",
    "        return 0\n",
    "    pol = sum(1/(np.math.factorial(n))*x**n for n in range(4))\n",
    "    return (np.log10(x)*np.exp(x) - pol)/x**2\n",
    "\n",
    "gauss_quad_5(fp, 0, 1) + poly"
   ]
  },
  {
   "cell_type": "markdown",
   "metadata": {},
   "source": [
    "Para la segunda integral usamos ln(x) en ves de log(x)"
   ]
  },
  {
   "cell_type": "code",
   "execution_count": 16,
   "metadata": {},
   "outputs": [
    {
     "data": {
      "text/plain": [
       "-245.90233063843837"
      ]
     },
     "execution_count": 16,
     "metadata": {},
     "output_type": "execute_result"
    }
   ],
   "source": [
    "poly = sum(1/((n + 1)*np.math.factorial(n)) for n in range(4))\n",
    "\n",
    "def fp(x):\n",
    "    if x == 0:\n",
    "        return 0\n",
    "    pol = sum(1/(np.math.factorial(n))*x**n for n in range(4))\n",
    "    return (np.log(x)*np.exp(x) - pol)/x**2\n",
    "\n",
    "gauss_quad_5(fp, 0, 1) + poly"
   ]
  },
  {
   "cell_type": "markdown",
   "metadata": {},
   "source": [
    "# Calificacion: 5.5\n",
    "\n",
    "Lo que se debia hacer era aislar la divergencia de la integral realizando la expansion de la parte que posee una divergencia, la cual es en $x=0$ ya que $log(0)=-\\infty$, esto se puede hacer introduciendo el cambio de variable $y=\\frac{1}{x}$ y ocupando el limite $y\\rightarrow 0$ y expandiendo la parte del denominador con $(1+3y^{2})^{-1}\\approx 1 - 3y^{2} + 9y^{4}\\dots$."
   ]
  }
 ],
 "metadata": {
  "kernelspec": {
   "display_name": "Python 3",
   "language": "python",
   "name": "python3"
  },
  "language_info": {
   "codemirror_mode": {
    "name": "ipython",
    "version": 3
   },
   "file_extension": ".py",
   "mimetype": "text/x-python",
   "name": "python",
   "nbconvert_exporter": "python",
   "pygments_lexer": "ipython3",
   "version": "3.8.3"
  },
  "toc": {
   "base_numbering": 1,
   "nav_menu": {},
   "number_sections": true,
   "sideBar": true,
   "skip_h1_title": false,
   "title_cell": "Table of Contents",
   "title_sidebar": "Contents",
   "toc_cell": false,
   "toc_position": {},
   "toc_section_display": true,
   "toc_window_display": false
  }
 },
 "nbformat": 4,
 "nbformat_minor": 5
}
