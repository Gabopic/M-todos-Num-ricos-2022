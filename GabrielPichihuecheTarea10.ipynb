{
 "cells": [
  {
   "cell_type": "markdown",
   "id": "41dee3df-8e9a-434e-960c-7a1ed7355903",
   "metadata": {},
   "source": [
    "### Tarea 10.1"
   ]
  },
  {
   "cell_type": "markdown",
   "id": "13f5dd6d-2887-4baa-ae66-bc55531de5dc",
   "metadata": {},
   "source": [
    "Gabriel Pichihueche\n",
    "\n",
    "Calcule las siguientes integrales\n",
    "\n",
    "$$\n",
    "\\int_1^\\infty dx\\,\\frac{\\log(x)x^{1/2}}{(x^2 + 3)}\n",
    "$$\n",
    "\n",
    "$$\n",
    "\\int_1^\\infty dx\\,\\ln(x)\\ \\sin(x)\n",
    "$$\n",
    "\n",
    "**Pista:** Al aislar la divergencia, escriba $\\log(x)f(x)/x^p$, luego expanda en Taylor $f(x)$ y las integrales resultantes con integrandos del tipo $x^n \\log(x)$ tienen solución analítica."
   ]
  },
  {
   "cell_type": "code",
   "execution_count": 7,
   "id": "af7e4686-f86f-48ce-9626-16e544b91d16",
   "metadata": {},
   "outputs": [],
   "source": [
    "import numpy as np"
   ]
  },
  {
   "cell_type": "markdown",
   "id": "5244dbdd-e519-46de-8644-f7ce11ac9a1d",
   "metadata": {},
   "source": [
    "Aplicamos el cambio de variable dado en la pista:\n",
    "\n",
    "$$\n",
    "\\int_1^{\\infty}dx\\,f(x) = \\int_{0}^{1}dy\\,\\frac{\\log(y)f(y)}{y^p}\n",
    "$$\n",
    "\n",
    "con y= 1/x y p=2,\n",
    "expandimos f(y) en Taylor"
   ]
  },
  {
   "cell_type": "markdown",
   "id": "e87fe7da-c911-459a-9a4b-a212b21a937f",
   "metadata": {},
   "source": [
    "$$\n",
    "f(y) \\approx P_m(y) = \\sum_{n=0}^m \\frac{1}{n!}(y)^n \\frac{d^nf}{dy^n}(0)\n",
    "$$\n",
    "\n",
    "Luego\n",
    "\n",
    "$$\n",
    "\\int_0^1 dx\\,\\frac{\\log(y)P_m(y)}{y^2} = \\frac{1}{1} \\sum_{n=0}^m \\frac{1}{(n+1)n!}(1)^{(n)} \\frac{d^nf}{dy^n}(0)\n",
    "$$"
   ]
  },
  {
   "cell_type": "code",
   "execution_count": 8,
   "id": "5d2afe27-09f4-4676-a266-21010a4b6c86",
   "metadata": {},
   "outputs": [],
   "source": [
    "def gauss_quad_5(f, a, b):\n",
    "    \n",
    "    def x(t):\n",
    "        return ((b - a)*t + a + b)/2\n",
    "    \n",
    "    c = [0.2369268850, 0.4786286705, 0.5688888889, 0.4786286705, 0.2369268850]\n",
    "    r = [0.9061798459, 0.5384693101, 0.0000000000, -0.5384693101, -0.9061798459]\n",
    "    \n",
    "    return ((b-a)/2)*sum(c[i]*f(x(r[i])) for i in range(5))"
   ]
  },
  {
   "cell_type": "code",
   "execution_count": 15,
   "id": "99893ee1-99f2-44c0-8df2-e1962418c204",
   "metadata": {},
   "outputs": [
    {
     "data": {
      "text/plain": [
       "-142.68332616066994"
      ]
     },
     "execution_count": 15,
     "metadata": {},
     "output_type": "execute_result"
    }
   ],
   "source": [
    "poly = sum(1/((n+1)*np.math.factorial(n)) for n in range(4))\n",
    "\n",
    "def fp(x):\n",
    "    if x == 0:\n",
    "        return 0\n",
    "    pol = sum(1/(np.math.factorial(n))*x**n for n in range(4))\n",
    "    return (np.log10(x)*np.exp(x) - pol)/x**2\n",
    "\n",
    "gauss_quad_5(fp, 0, 1) + poly"
   ]
  },
  {
   "cell_type": "markdown",
   "id": "982c6e37-4e78-47fa-b35f-681302debfd9",
   "metadata": {},
   "source": [
    "Para la segunda integral usamos ln(x) en ves de log(x)"
   ]
  },
  {
   "cell_type": "code",
   "execution_count": 16,
   "id": "4b750533-f11e-4fc5-bb6b-0d9b40ce4665",
   "metadata": {},
   "outputs": [
    {
     "data": {
      "text/plain": [
       "-245.90233063843837"
      ]
     },
     "execution_count": 16,
     "metadata": {},
     "output_type": "execute_result"
    }
   ],
   "source": [
    "poly = sum(1/((n + 1)*np.math.factorial(n)) for n in range(4))\n",
    "\n",
    "def fp(x):\n",
    "    if x == 0:\n",
    "        return 0\n",
    "    pol = sum(1/(np.math.factorial(n))*x**n for n in range(4))\n",
    "    return (np.log(x)*np.exp(x) - pol)/x**2\n",
    "\n",
    "gauss_quad_5(fp, 0, 1) + poly"
   ]
  },
  {
   "cell_type": "code",
   "execution_count": null,
   "id": "983ded02-047c-4011-b56a-b0daf7ab9bdc",
   "metadata": {},
   "outputs": [],
   "source": []
  }
 ],
 "metadata": {
  "kernelspec": {
   "display_name": "Python 3 (ipykernel)",
   "language": "python",
   "name": "python3"
  },
  "language_info": {
   "codemirror_mode": {
    "name": "ipython",
    "version": 3
   },
   "file_extension": ".py",
   "mimetype": "text/x-python",
   "name": "python",
   "nbconvert_exporter": "python",
   "pygments_lexer": "ipython3",
   "version": "3.9.7"
  }
 },
 "nbformat": 4,
 "nbformat_minor": 5
}
