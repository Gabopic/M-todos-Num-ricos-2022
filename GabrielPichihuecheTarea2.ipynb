{
 "cells": [
  {
   "cell_type": "markdown",
   "id": "44ebf543-dfcf-4f4f-910f-d734626124f7",
   "metadata": {},
   "source": [
    "Tarea 2.6\n",
    "\n",
    "Escriba a cuál número corresponde la siguiente representación de 16 bits:\n",
    "1 00110 1110110101\n",
    "\n",
    "\n",
    "Siguiendo la lógica para los números de 16 bits, el número total es:\n",
    "$$(-1)^s 2^{c - 15} (1 + f)$$\n",
    "\n",
    "donde s corresponde al primer bit (en este caso 1), c formado por los 5 números que siguen (en este caso\n",
    "00110), y f formado por los últimos 10 números (1110110101 en nuestro caso)\n",
    "\n",
    "c se define por la sumatoria: \n",
    "$$\n",
    "c = \\sum_{i = 0}^{4} b_i 2^{4 - i}\n",
    "$$\n",
    "\n",
    "y f se define como:\n",
    "$$\n",
    "f = \\sum_{i = 1}^{10}\\left(\\frac{b_i}{2}\\right)^i\\,,\n",
    "$$\n",
    "\n",
    "siendo b_i el número en el puesto i-ésimo del número binario"
   ]
  },
  {
   "cell_type": "code",
   "execution_count": 109,
   "id": "ac71714b-53b0-4156-952e-b50bee6db758",
   "metadata": {},
   "outputs": [],
   "source": [
    "import numpy as np"
   ]
  },
  {
   "cell_type": "code",
   "execution_count": 110,
   "id": "7edb87ae-ea6f-421c-9c84-fd3f0bbd5c96",
   "metadata": {},
   "outputs": [],
   "source": [
    "#Definimos nuestro binario como un array, así podremos acceder a cada número que lo compone fácilmente\n",
    "#Luego de esto, obtenemos las variables s, c y f utilizando las fórmulas definidas arriba.\n",
    "n=np.array([1.,0.,0.,1.,1.,0.,1.,1.,1.,0.,1.,1.,0.,1.,0.,1.])\n",
    "s=n[0]\n",
    "c=np.sum((n[1:6])*2**(4-np.arange(0,5)))\n",
    "f=np.sum(((n[6:17])/2)**np.arange(1,11))"
   ]
  },
  {
   "cell_type": "code",
   "execution_count": 111,
   "id": "4112d18e-33f6-4f1b-a775-ed1341b6dbc7",
   "metadata": {},
   "outputs": [
    {
     "name": "stdout",
     "output_type": "stream",
     "text": [
      "El número correspondiente al binario de 16 bits es -0.0037631988525390625\n"
     ]
    }
   ],
   "source": [
    "#Finalmente nuestro número total nos queda\n",
    "nt=((-1)**s)*(2**(c-15))*(1+f)\n",
    "\n",
    "print(\"El número correspondiente al binario de 16 bits es\", nt)"
   ]
  }
 ],
 "metadata": {
  "kernelspec": {
   "display_name": "Python 3 (ipykernel)",
   "language": "python",
   "name": "python3"
  },
  "language_info": {
   "codemirror_mode": {
    "name": "ipython",
    "version": 3
   },
   "file_extension": ".py",
   "mimetype": "text/x-python",
   "name": "python",
   "nbconvert_exporter": "python",
   "pygments_lexer": "ipython3",
   "version": "3.9.7"
  }
 },
 "nbformat": 4,
 "nbformat_minor": 5
}
