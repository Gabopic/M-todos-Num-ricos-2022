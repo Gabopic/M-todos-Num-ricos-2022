{
 "cells": [
  {
   "cell_type": "code",
   "execution_count": null,
   "id": "f2c8f57e-0874-4370-bdd2-47bea0268935",
   "metadata": {},
   "outputs": [],
   "source": [
    "#Gabriel Pichihueche"
   ]
  },
  {
   "cell_type": "code",
   "execution_count": 3,
   "id": "f8e739a3-680d-4ee7-8137-15578316f02f",
   "metadata": {},
   "outputs": [
    {
     "ename": "SyntaxError",
     "evalue": "invalid syntax (2982251919.py, line 3)",
     "output_type": "error",
     "traceback": [
      "\u001b[0;36m  File \u001b[0;32m\"/tmp/ipykernel_4388/2982251919.py\"\u001b[0;36m, line \u001b[0;32m3\u001b[0m\n\u001b[0;31m    return 1+\u001b[0m\n\u001b[0m             ^\u001b[0m\n\u001b[0;31mSyntaxError\u001b[0m\u001b[0;31m:\u001b[0m invalid syntax\n"
     ]
    }
   ],
   "source": [
    "#Tarea 1.2: Modifique el siguiente código para que no saque un error\n",
    "def fun(n):\n",
    "    return 1+\n",
    "\n",
    "print(fun(1))\n",
    "#Vemos que sale un error de syntax aquí al momento de sumar, falta un elemento más a la suma para que \n",
    "#funcione, además de que la variable \"n\" definida en la función no se utiliza en ninguna parte."
   ]
  },
  {
   "cell_type": "code",
   "execution_count": 4,
   "id": "e33a7087-7600-4291-9a3b-cac5d73f97d2",
   "metadata": {},
   "outputs": [
    {
     "name": "stdout",
     "output_type": "stream",
     "text": [
      "2\n"
     ]
    }
   ],
   "source": [
    "#En este caso simplemente agregamos la variable \"n\" definida en la función a la operación, para que esta\n",
    "#pueda ejecutarse correctamente, se podría también agregar cualquier número a la suma en lugar de usar la\n",
    "#variable y ya no daría un error de syntax, pero uso \"n\" para que el código tenga más sentido\n",
    "def fun(n):\n",
    "    return 1+n\n",
    "\n",
    "print(fun(1))"
   ]
  },
  {
   "cell_type": "code",
   "execution_count": null,
   "id": "850e1140-4ca3-4f50-b1e2-c6be814dcd5c",
   "metadata": {},
   "outputs": [],
   "source": []
  }
 ],
 "metadata": {
  "kernelspec": {
   "display_name": "Python 3 (ipykernel)",
   "language": "python",
   "name": "python3"
  },
  "language_info": {
   "codemirror_mode": {
    "name": "ipython",
    "version": 3
   },
   "file_extension": ".py",
   "mimetype": "text/x-python",
   "name": "python",
   "nbconvert_exporter": "python",
   "pygments_lexer": "ipython3",
   "version": "3.9.7"
  }
 },
 "nbformat": 4,
 "nbformat_minor": 5
}
