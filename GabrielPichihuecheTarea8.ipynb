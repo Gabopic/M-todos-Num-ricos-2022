{
 "cells": [
  {
   "cell_type": "markdown",
   "metadata": {},
   "source": [
    "## Tarea 8.2\n",
    "\n",
    "Gabriel Pichihueche\n",
    "\n",
    "Escriba un código similar a la interpolación lineal de la clase, pero que realice una interpolación cuadrática. Es decir, este código interpola usando una parábola para cada trío de puntos. Grafique sus resultados para el mismo ejemplo usado en la interpolación lineal.\n"
   ]
  },
  {
   "cell_type": "code",
   "execution_count": 1,
   "metadata": {},
   "outputs": [],
   "source": [
    "import numpy as np\n",
    "import matplotlib.pyplot as plt"
   ]
  },
  {
   "cell_type": "markdown",
   "metadata": {},
   "source": [
    "En este caso para resolver este ejercicio tenemos que añadir el tercer punto a la función de interpolación al momento de calcular los polinomios de Lagrange, además de agregar los elementos faltantes de la productoria, siguiendo la forma vista en clases:\n",
    "\n",
    "Dados $n+1$ puntos, hay un único polinomio de grado $n$ que pasa por todos esos puntos. Ese polinomio está dado por:\n",
    "\n",
    "$$\n",
    "P(x) = \\sum_{i = 0}^n f(x_i) L_{n,i}(x)\\,,\n",
    "$$\n",
    "\n",
    "donde\n",
    "\n",
    "$$\n",
    "L_{n,i}(x) = \\prod_{j = 0, j \\neq i}^n \\frac{(x - x_j)}{(x_i - x_j)}\n",
    "$$\n",
    "\n",
    "Definimos nuestra función para encontrar los índices y la de interpolación cuadrática:"
   ]
  },
  {
   "cell_type": "code",
   "execution_count": 2,
   "metadata": {},
   "outputs": [],
   "source": [
    "def find_index(x, puntos):\n",
    "    for i in range(len(puntos)):\n",
    "        if x < puntos[i,0] and i != 0:\n",
    "            return i-1\n",
    "\n",
    "def quadratic_interpolation(x, puntos):\n",
    "    if x >= puntos[len(puntos)-1,0]:\n",
    "        return puntos[len(puntos)-1,1]\n",
    "    elif x <= puntos[0,0]:\n",
    "        return puntos[0,1]\n",
    "    \n",
    "    i = find_index(x, puntos)\n",
    "    \n",
    "    #Calculamos los polinomios de Lagrange\n",
    "    L0 = puntos[i-1][1]*(x-puntos[i][0])/(puntos[i-1][0]-puntos[i][0])\\\n",
    "                       *(x-puntos[i+1][0])/(puntos[i-1][0]-puntos[i+1][0])\n",
    "    \n",
    "    L1 = puntos[i][1]*(x-puntos[i+1][0])/(puntos[i][0]-puntos[i+1][0])\\\n",
    "                     *(x-puntos[i-1][0])/(puntos[i][0]-puntos[i-1][0])\n",
    "    \n",
    "    L2 = puntos[i+1][1]*(x-puntos[i-1][0])/(puntos[i+1][0]-puntos[i-1][0])\\\n",
    "                       *(x-puntos[i][0])/(puntos[i+1][0]-puntos[i][0])\n",
    "    \n",
    "    return L0+L1+L2"
   ]
  },
  {
   "cell_type": "markdown",
   "metadata": {},
   "source": [
    "Finalmente lo aplicamos al ejemplo que se ultilizó en los apuntes y lo graficamos para comparar:"
   ]
  },
  {
   "cell_type": "code",
   "execution_count": 3,
   "metadata": {},
   "outputs": [
    {
     "data": {
      "image/png": "[encoded data removed]",
      "text/plain": [
       "<Figure size 432x288 with 1 Axes>"
      ]
     },
     "metadata": {
      "needs_background": "light"
     },
     "output_type": "display_data"
    }
   ],
   "source": [
    "mini = 0.1\n",
    "maxi = 20\n",
    "order = 9\n",
    "\n",
    "xp = np.linspace(mini, maxi, order)\n",
    "puntos = np.array([[xi, np.sin(xi)/xi] for xi in xp])\n",
    "\n",
    "x = np.linspace(mini, maxi, 100)\n",
    "exact = np.sin(x)/x\n",
    "quad = [quadratic_interpolation(xi, puntos) for xi in x]\n",
    "\n",
    "plt.scatter(puntos[:,0], puntos[:,1], color='red')\n",
    "plt.plot(x, exact)\n",
    "plt.plot(x, quad)\n",
    "plt.title(\"Curva real VS Interpolación cuadrática\")\n",
    "plt.legend([\"Curva real\",\"Interpolación\"])\n",
    "plt.show()"
   ]
  },
  {
   "cell_type": "markdown",
   "metadata": {},
   "source": [
    "Se puede ver que esta aproximación es ligeramente mejor que la lineal vista en clase, aún así se nota que hay un grado de error considerable debido a la cantidad de puntos que se utilizan."
   ]
  },
  {
   "cell_type": "markdown",
   "metadata": {},
   "source": [
    "# Calificacion: 7.0"
   ]
  }
 ],
 "metadata": {
  "kernelspec": {
   "display_name": "Python 3",
   "language": "python",
   "name": "python3"
  },
  "language_info": {
   "codemirror_mode": {
    "name": "ipython",
    "version": 3
   },
   "file_extension": ".py",
   "mimetype": "text/x-python",
   "name": "python",
   "nbconvert_exporter": "python",
   "pygments_lexer": "ipython3",
   "version": "3.8.3"
  },
  "toc": {
   "base_numbering": 1,
   "nav_menu": {},
   "number_sections": true,
   "sideBar": true,
   "skip_h1_title": false,
   "title_cell": "Table of Contents",
   "title_sidebar": "Contents",
   "toc_cell": false,
   "toc_position": {},
   "toc_section_display": true,
   "toc_window_display": false
  }
 },
 "nbformat": 4,
 "nbformat_minor": 5
}
