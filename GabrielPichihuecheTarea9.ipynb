{
 "cells": [
  {
   "cell_type": "markdown",
   "metadata": {},
   "source": [
    "## Tarea 9.10"
   ]
  },
  {
   "cell_type": "markdown",
   "metadata": {},
   "source": [
    "Gabriel Pichihueche\n",
    "\n",
    "Ejercicio 4.6.10 del libro de análisis numérico de Burden.\n",
    "\n",
    "El estudio de la difracción de la luz en una apertura rectangular involucra las integrales de Fresnel\n",
    "\n",
    "$$\n",
    "C(t) = \\int_0^t dw\\,\\cos\\frac{\\pi}{2}w^2\\,,\\quad S(t) = \\int_0^t dw\\,\\sin\\frac{\\pi}{2}w^2\\,.\n",
    "$$\n",
    "\n",
    "Construya una tabla de integrales de Fresnel con una precisión de $10^{-4}$ para los valores $t = 0.1, 0.2, ..., 0.9, 1.0$."
   ]
  },
  {
   "cell_type": "code",
   "execution_count": 1,
   "metadata": {},
   "outputs": [],
   "source": [
    "import numpy as np\n",
    "import matplotlib.pyplot as plt"
   ]
  },
  {
   "cell_type": "markdown",
   "metadata": {},
   "source": [
    "Definimos nuestras funciones c(w) y s(w), siendo estas las funciones de coseno y seno que están dentro de las integrales de Fresnel, para luego integrarlas."
   ]
  },
  {
   "cell_type": "code",
   "execution_count": 2,
   "metadata": {},
   "outputs": [],
   "source": [
    "def c(w):\n",
    "    return np.cos((np.pi/2)*w**2)"
   ]
  },
  {
   "cell_type": "code",
   "execution_count": 3,
   "metadata": {},
   "outputs": [],
   "source": [
    "def s(w):\n",
    "    return np.sin((np.pi/2)*w**2)"
   ]
  },
  {
   "cell_type": "markdown",
   "metadata": {},
   "source": [
    "Ahora definimos nuestra función para integración de paso adaptativo, así también podemos dar un nivel de tolerancia y asegurar un error de a lo más 10^-4 como nos pide el ejercicio."
   ]
  },
  {
   "cell_type": "code",
   "execution_count": 4,
   "metadata": {},
   "outputs": [],
   "source": [
    "class MaxIterations(Exception):\n",
    "    pass\n",
    "\n",
    "def adaptative_step(f, a, b, tol, N=100000):\n",
    "    # Con func siendo la función a integrar, a y b siendo los límites de integración\n",
    "    #y tol correspondiendo al valor de tolerancia, N es la cantidad máxima iteraciones.\n",
    "    \n",
    "    approx = 0\n",
    "    i = 0\n",
    "    toli = [10*tol]\n",
    "    ai = [a]\n",
    "    hi = [(b - a)/2]\n",
    "    fai = [f(a)]\n",
    "    fbi = [f(b)]\n",
    "    fci = [f(a + hi[i])]\n",
    "    S0i = [hi[i]*(fai[i] + 4*fci[i] + fbi[i])/3]\n",
    "    Li = [1]\n",
    "    \n",
    "        \n",
    "    \n",
    "    while i >= 0:\n",
    "        \n",
    "        fd = f(ai[i] + hi[i]/2)\n",
    "        fe = f(ai[i] + 3*hi[i]/2)\n",
    "        S1 = hi[i]*(fai[i] + 4*fd + fci[i])/6\n",
    "        S2 = hi[i]*(fci[i] + 4*fe + fbi[i])/6\n",
    "        ai_prec = ai[i]\n",
    "        hi_prec = hi[i]\n",
    "        fai_prec = fai[i]\n",
    "        fbi_prec = fbi[i]\n",
    "        fci_prec = fci[i]\n",
    "        toli_prec = toli[i]\n",
    "        S0i_prec = S0i[i]\n",
    "        Li_prec = Li[i]\n",
    "        \n",
    "        i -= 1\n",
    "        if abs(S1 + S2 - S0i_prec) < toli_prec:\n",
    "            approx += S1 + S2\n",
    "        else:\n",
    "            if Li_prec >= N:\n",
    "                raise MaxIterations(\"Alcanzado máximo número de iteraciones.\")\n",
    "            \n",
    "            i += 1\n",
    "            if i >= len(ai):\n",
    "                ai.append(ai_prec + hi_prec)\n",
    "                fai.append(fci_prec)\n",
    "                fci.append(fe)\n",
    "                fbi.append(fbi_prec)\n",
    "                hi.append(hi_prec/2)\n",
    "                toli.append(toli_prec/2)\n",
    "                S0i.append(S2)\n",
    "                Li.append(Li_prec + 1)\n",
    "            else:\n",
    "                ai[i] = ai_prec + hi_prec\n",
    "                fai[i] = fci_prec\n",
    "                fci[i] = fe\n",
    "                fbi[i] = fbi_prec\n",
    "                hi[i] = hi_prec/2\n",
    "                toli[i] = toli_prec/2\n",
    "                S0i[i] = S2\n",
    "                Li[i] = Li_prec + 1\n",
    "                \n",
    "            i += 1\n",
    "            if i >= len(ai):\n",
    "                ai.append(ai_prec)\n",
    "                fai.append(fai_prec)\n",
    "                fci.append(fd)\n",
    "                fbi.append(fci_prec)\n",
    "                hi.append(hi[i-1])\n",
    "                toli.append(toli[i-1])\n",
    "                S0i.append(S1)\n",
    "                Li.append(Li[i-1])\n",
    "            else:\n",
    "                ai[i] = ai_prec\n",
    "                fai[i] = fai_prec\n",
    "                fci[i] = fd\n",
    "                fbi[i] = fci_prec\n",
    "                hi[i] = hi[i-1]\n",
    "                toli[i] = toli[i-1]\n",
    "                S0i[i] = S1\n",
    "                Li[i] = Li[i-1]\n",
    "                \n",
    "    return approx"
   ]
  },
  {
   "cell_type": "markdown",
   "metadata": {},
   "source": [
    "Aplicamos nuestra función de integración a las funciones c y s para cada límite superior (t) de integración y metemos todos nuestros resultados a un array de dos columnas."
   ]
  },
  {
   "cell_type": "code",
   "execution_count": 5,
   "metadata": {},
   "outputs": [],
   "source": [
    "matrix=np.empty([0,2])\n",
    "for i in np.arange(0,1.1,0.1):\n",
    "    c_integrada=adaptative_step(c,0,i,0.0001)\n",
    "    s_integrada=adaptative_step(s,0,i,0.0001)\n",
    "    resultados=np.array([c_integrada,s_integrada])\n",
    "    matrix=np.vstack((matrix,resultados))"
   ]
  },
  {
   "cell_type": "markdown",
   "metadata": {},
   "source": [
    "La matriz resultante tiene los valores de C(t) en la primera columna, y los de S(t) en la segunda."
   ]
  },
  {
   "cell_type": "code",
   "execution_count": 6,
   "metadata": {},
   "outputs": [
    {
     "data": {
      "text/plain": [
       "array([[0.00000000e+00, 0.00000000e+00],\n",
       "       [9.99975262e-02, 5.23589387e-04],\n",
       "       [1.99920853e-01, 4.18758861e-03],\n",
       "       [2.99399446e-01, 1.41166481e-02],\n",
       "       [3.97474593e-01, 3.33568374e-02],\n",
       "       [4.92327199e-01, 6.47203162e-02],\n",
       "       [5.81060999e-01, 1.10498453e-01],\n",
       "       [6.59649786e-01, 1.72129265e-01],\n",
       "       [7.22844230e-01, 2.49325381e-01],\n",
       "       [7.64971727e-01, 3.39746957e-01],\n",
       "       [7.79880037e-01, 4.38245260e-01]])"
      ]
     },
     "execution_count": 6,
     "metadata": {},
     "output_type": "execute_result"
    }
   ],
   "source": [
    "matrix"
   ]
  },
  {
   "cell_type": "markdown",
   "metadata": {},
   "source": [
    "Finalmente graficamos ambas:"
   ]
  },
  {
   "cell_type": "code",
   "execution_count": 7,
   "metadata": {},
   "outputs": [
    {
     "data": {
      "image/png": "[encoded data removed]",
      "text/plain": [
       "<Figure size 432x288 with 1 Axes>"
      ]
     },
     "metadata": {
      "needs_background": "light"
     },
     "output_type": "display_data"
    }
   ],
   "source": [
    "plt.plot(np.arange(0,1.1,0.1), matrix[:,0])\n",
    "plt.plot(np.arange(0,1.1,0.1), matrix[:,1])\n",
    "plt.title('C(t) vs S(t)')\n",
    "plt.legend(('C(t)','S(t)'))\n",
    "plt.xlabel('t')\n",
    "plt.ylabel('S(t),C(t)')\n",
    "plt.show()"
   ]
  },
  {
   "cell_type": "markdown",
   "metadata": {},
   "source": [
    "# Calificacion: 7.0"
   ]
  }
 ],
 "metadata": {
  "kernelspec": {
   "display_name": "Python 3",
   "language": "python",
   "name": "python3"
  },
  "language_info": {
   "codemirror_mode": {
    "name": "ipython",
    "version": 3
   },
   "file_extension": ".py",
   "mimetype": "text/x-python",
   "name": "python",
   "nbconvert_exporter": "python",
   "pygments_lexer": "ipython3",
   "version": "3.8.3"
  },
  "toc": {
   "base_numbering": 1,
   "nav_menu": {},
   "number_sections": true,
   "sideBar": true,
   "skip_h1_title": false,
   "title_cell": "Table of Contents",
   "title_sidebar": "Contents",
   "toc_cell": false,
   "toc_position": {},
   "toc_section_display": true,
   "toc_window_display": false
  }
 },
 "nbformat": 4,
 "nbformat_minor": 5
}
