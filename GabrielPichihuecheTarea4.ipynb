{
 "cells": [
  {
   "cell_type": "markdown",
   "id": "8bb8b1d6-6eef-4c95-8630-3ff5abbef856",
   "metadata": {},
   "source": [
    "## Tarea 4.7\n",
    "\n",
    "Gabriel Pichihueche\n",
    "\n",
    "Escriba una función dado(n) que simule lanzar un dado de 𝑛\n",
    "caras. Corra la función 1000 veces para un dado de 6 caras y guarde los resultados en un archivo .hd5"
   ]
  },
  {
   "cell_type": "code",
   "execution_count": 1,
   "id": "164d1e9c-f2af-44d5-b803-530c4917be71",
   "metadata": {},
   "outputs": [],
   "source": [
    "import numpy as np\n",
    "import h5py\n",
    "import random\n",
    "import matplotlib.pyplot as plt"
   ]
  },
  {
   "cell_type": "code",
   "execution_count": 2,
   "id": "39f25b64-66e3-4a88-81ad-abe09e6b08ca",
   "metadata": {},
   "outputs": [],
   "source": [
    "#Definimos la función para nuestro dado de n caras\n",
    "def dado(n):\n",
    "    return random.randint(1,n)"
   ]
  },
  {
   "cell_type": "code",
   "execution_count": 3,
   "id": "a6ad64f2-cc8f-4913-abe2-12a6399516d4",
   "metadata": {},
   "outputs": [],
   "source": [
    "#Creamos un array vacío y luego le agregamos el resultado de correr la \n",
    "#función dado 1000 veces\n",
    "space=np.empty((1,0),int)\n",
    "datos=np.append(space,[dado(6) for i in range(1000)])"
   ]
  },
  {
   "cell_type": "code",
   "execution_count": 9,
   "id": "a5003334-7975-45fd-b7fe-76d8da9d88f2",
   "metadata": {},
   "outputs": [],
   "source": [
    "#Creamos nuestro archivo hd5 llamado d6 y metemos nuestros datos en un dataset \n",
    "with h5py.File('d6.hd5','w') as file:\n",
    "    datad6=file.create_dataset('datad6',data=datos)"
   ]
  },
  {
   "cell_type": "code",
   "execution_count": 10,
   "id": "3a0d62c4-1d68-491b-a7bf-63e9625ec761",
   "metadata": {},
   "outputs": [
    {
     "name": "stdout",
     "output_type": "stream",
     "text": [
      "[2 6 3 1 1 3 4 5 2 3 4 1 6 3 5 5 3 2 1 6 6 2 5 1 3 6 1 1 2 5 1 1 2 4 2 2 4\n",
      " 5 2 5 4 2 5 4 3 5 5 2 5 3 6 4 1 5 4 2 2 5 2 6 2 6 3 5 2 3 1 2 1 6 6 1 4 4\n",
      " 3 6 2 2 6 4 3 2 2 5 6 3 5 5 3 5 2 1 4 5 1 6 5 4 6 6 6 2 5 4 4 1 2 4 6 5 6\n",
      " 3 4 4 1 4 3 3 4 3 4 5 4 3 1 2 6 4 4 2 3 2 2 6 2 3 1 3 4 6 5 4 4 3 3 4 4 3\n",
      " 2 3 6 4 3 1 2 4 5 2 1 6 3 3 1 1 6 1 4 2 1 6 3 3 4 3 4 1 4 3 3 2 6 2 3 5 5\n",
      " 1 3 5 4 5 6 6 2 4 5 6 1 2 1 6 6 3 2 4 3 1 5 4 2 3 4 6 3 1 4 2 1 3 4 6 5 6\n",
      " 1 2 1 5 5 1 5 1 1 6 3 6 6 4 5 5 1 5 1 5 5 5 4 2 6 2 6 3 2 6 3 6 3 4 4 4 4\n",
      " 2 2 2 6 1 5 4 1 1 4 6 4 2 4 2 2 5 3 1 2 4 1 3 2 5 6 1 3 4 2 5 6 6 4 1 2 1\n",
      " 2 5 4 6 2 6 4 5 6 4 2 2 4 1 6 6 3 4 2 6 5 1 4 4 1 5 6 6 6 5 1 5 2 6 4 5 2\n",
      " 4 5 4 1 4 3 2 4 5 2 5 6 1 3 6 3 3 4 1 1 6 3 2 4 4 6 3 4 5 6 4 4 4 6 1 3 3\n",
      " 3 1 2 6 3 4 5 4 2 5 1 6 5 1 6 6 3 5 4 4 4 3 2 4 4 5 5 3 3 1 1 2 4 3 3 4 5\n",
      " 2 6 6 3 4 1 3 3 2 2 2 1 2 5 5 6 1 1 5 5 5 3 5 6 1 2 5 5 3 3 3 5 2 4 1 4 3\n",
      " 1 3 1 2 5 2 4 1 4 4 6 4 5 2 1 3 1 3 2 4 5 6 3 3 1 6 3 1 1 5 4 3 3 6 3 1 1\n",
      " 2 5 5 3 1 2 5 6 3 4 3 4 5 6 4 6 6 4 3 5 1 4 4 4 4 5 5 1 3 3 4 1 1 5 2 2 3\n",
      " 2 3 4 4 6 1 3 2 6 5 5 2 5 3 1 5 4 5 6 6 4 3 6 1 5 2 2 6 6 6 6 6 1 1 3 6 6\n",
      " 5 6 1 1 3 1 5 2 3 1 6 5 4 6 2 1 4 5 6 3 2 3 4 6 3 1 1 6 6 2 6 1 3 1 1 5 6\n",
      " 5 5 6 1 4 3 3 3 3 6 2 2 5 1 3 1 2 4 4 5 5 3 2 1 1 1 1 3 1 6 3 1 6 3 2 6 5\n",
      " 5 2 1 5 4 4 3 6 6 1 5 6 5 6 1 6 5 4 1 2 3 6 6 6 4 6 5 3 2 2 4 6 5 3 5 4 1\n",
      " 5 3 4 3 5 4 3 4 6 6 3 1 3 6 1 2 4 4 5 4 4 6 2 3 5 2 6 5 5 3 3 2 1 4 3 6 4\n",
      " 4 6 6 4 4 3 2 5 5 3 2 4 6 4 2 5 4 4 2 4 5 1 3 4 2 5 4 5 3 3 2 5 1 1 1 5 4\n",
      " 5 2 1 5 3 6 2 1 5 3 6 6 4 5 4 5 4 3 6 1 2 4 6 2 6 5 3 1 5 6 6 6 3 1 2 6 6\n",
      " 5 6 4 2 2 1 1 4 6 2 5 3 6 1 2 2 5 2 4 1 5 2 4 3 3 3 5 2 5 1 6 2 6 1 4 1 2\n",
      " 3 3 4 3 3 6 1 2 1 2 5 2 6 1 5 5 6 3 5 3 6 6 4 3 4 1 4 2 2 3 3 4 4 3 6 3 2\n",
      " 2 2 4 2 6 6 1 4 3 5 4 3 3 1 6 1 6 5 1 2 2 2 5 3 1 6 5 6 3 1 2 3 6 4 6 1 4\n",
      " 2 4 3 6 2 5 4 1 2 4 1 5 6 3 4 6 6 6 6 5 6 5 4 6 1 6 3 3 3 4 3 3 4 6 3 3 2\n",
      " 2 4 1 1 6 1 1 6 2 2 4 6 6 4 5 1 3 5 3 6 3 4 6 6 2 5 5 1 6 3 5 1 1 4 1 1 1\n",
      " 2 6 4 4 4 2 4 2 6 2 6 1 6 3 5 2 2 3 4 3 1 5 4 4 5 3 3 3 6 6 3 6 4 5 6 4 3\n",
      " 1]\n",
      "<HDF5 dataset \"datad6\": shape (1000,), type \"<i8\">\n"
     ]
    }
   ],
   "source": [
    "#Abrimos el archivo y vemos que los datos estén correctos\n",
    "with h5py.File('d6.hd5','r') as file:\n",
    "    d=file['datad6']\n",
    "    print(d[:])\n",
    "    print(d)"
   ]
  },
  {
   "cell_type": "code",
   "execution_count": null,
   "id": "518000d9-57b0-424f-ae3d-af5f4499c31c",
   "metadata": {},
   "outputs": [],
   "source": []
  }
 ],
 "metadata": {
  "kernelspec": {
   "display_name": "Python 3 (ipykernel)",
   "language": "python",
   "name": "python3"
  },
  "language_info": {
   "codemirror_mode": {
    "name": "ipython",
    "version": 3
   },
   "file_extension": ".py",
   "mimetype": "text/x-python",
   "name": "python",
   "nbconvert_exporter": "python",
   "pygments_lexer": "ipython3",
   "version": "3.9.7"
  }
 },
 "nbformat": 4,
 "nbformat_minor": 5
}
