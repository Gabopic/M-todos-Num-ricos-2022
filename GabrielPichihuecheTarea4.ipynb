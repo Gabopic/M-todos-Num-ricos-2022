{
 "cells": [
  {
   "cell_type": "markdown",
   "metadata": {},
   "source": [
    "## Tarea 4.7\n",
    "\n",
    "Gabriel Pichihueche\n",
    "\n",
    "Escriba una función dado(n) que simule lanzar un dado de 𝑛\n",
    "caras. Corra la función 1000 veces para un dado de 6 caras y guarde los resultados en un archivo .hd5"
   ]
  },
  {
   "cell_type": "code",
   "execution_count": 1,
   "metadata": {},
   "outputs": [],
   "source": [
    "import numpy as np\n",
    "import h5py\n",
    "import random\n",
    "import matplotlib.pyplot as plt"
   ]
  },
  {
   "cell_type": "code",
   "execution_count": 12,
   "metadata": {},
   "outputs": [],
   "source": [
    "#Definimos la función para nuestro dado de n caras\n",
    "def dado(n):\n",
    "    \"\"\"\n",
    "    Función para simular un dado de n caras, devuelve un valor aleatorio\n",
    "    entre 1 y n\n",
    "    \"\"\"\n",
    "    return random.randint(1,n)"
   ]
  },
  {
   "cell_type": "code",
   "execution_count": 13,
   "metadata": {},
   "outputs": [],
   "source": [
    "#Creamos un array vacío y luego le agregamos el resultado de correr la \n",
    "#función dado 1000 veces\n",
    "space=np.empty((1,0),int)\n",
    "datos=np.append(space,[dado(6) for i in range(1000)])"
   ]
  },
  {
   "cell_type": "code",
   "execution_count": 14,
   "metadata": {},
   "outputs": [],
   "source": [
    "#Creamos nuestro archivo hd5 llamado d6 y metemos nuestros datos en un dataset \n",
    "with h5py.File('d6.hd5','w') as file:\n",
    "    datad6=file.create_dataset('datad6',data=datos)"
   ]
  },
  {
   "cell_type": "code",
   "execution_count": 15,
   "metadata": {},
   "outputs": [
    {
     "name": "stdout",
     "output_type": "stream",
     "text": [
      "[5 6 6 2 5 2 3 1 6 3 6 3 5 4 6 4 4 5 2 3 1 5 3 5 6 3 4 1 4 2 6 5 3 2 1 3 5\n",
      " 4 1 1 1 4 1 2 2 1 2 4 2 3 3 3 4 3 4 1 1 6 5 3 2 5 2 2 5 4 2 5 1 5 3 1 1 3\n",
      " 6 6 4 1 5 3 3 4 5 2 3 5 4 5 1 1 3 1 4 1 4 6 6 6 5 6 5 2 6 3 2 4 1 2 5 4 4\n",
      " 3 3 3 4 5 5 5 5 6 6 3 3 5 3 1 5 4 3 4 2 3 3 4 5 5 6 2 2 2 1 2 5 4 2 1 5 3\n",
      " 1 2 6 5 3 6 6 2 3 3 1 6 5 3 1 4 4 1 4 3 4 4 5 5 6 6 2 3 3 6 5 5 2 4 5 6 6\n",
      " 2 4 6 4 2 3 1 1 3 3 6 4 5 6 3 4 2 1 6 3 3 3 6 5 6 5 1 1 2 4 2 5 2 1 4 6 5\n",
      " 6 5 4 4 1 6 1 2 4 1 6 3 1 6 3 1 1 4 2 2 5 4 1 3 4 5 3 5 4 6 6 2 6 1 3 2 2\n",
      " 3 3 3 1 2 5 6 2 2 3 5 3 4 5 6 5 2 5 2 5 1 5 6 6 1 5 5 4 5 3 3 6 5 3 6 2 5\n",
      " 2 6 3 5 5 4 3 6 6 5 1 4 1 5 1 5 3 6 3 2 3 1 3 1 1 1 6 4 4 4 6 3 5 4 1 4 2\n",
      " 4 2 2 6 1 3 5 4 3 5 6 4 2 4 2 3 2 6 5 6 2 5 5 4 2 2 1 5 4 4 3 3 6 2 5 2 2\n",
      " 2 5 5 1 5 3 1 6 4 2 2 5 6 3 5 2 5 5 4 3 1 3 3 5 4 5 2 4 3 3 2 2 3 1 1 5 2\n",
      " 4 6 1 4 2 2 4 6 6 2 6 2 5 1 5 2 2 2 2 4 5 3 3 2 6 5 2 6 6 6 2 3 4 2 3 6 3\n",
      " 6 4 6 1 1 4 6 5 2 2 2 4 3 5 6 3 5 5 4 2 3 1 4 6 5 4 6 4 3 3 6 1 1 2 2 3 1\n",
      " 5 5 2 5 2 2 6 6 1 2 6 3 2 1 6 1 5 4 4 3 1 3 3 6 6 4 2 1 1 2 5 5 1 4 5 6 5\n",
      " 1 1 4 1 3 2 3 3 1 4 3 2 3 4 2 4 4 2 4 3 6 2 5 3 6 6 3 2 1 6 4 2 4 3 5 6 5\n",
      " 6 3 5 4 3 6 3 6 1 1 3 3 3 5 4 2 3 2 5 1 3 5 2 5 3 5 5 5 3 2 6 1 6 3 1 5 2\n",
      " 4 3 6 1 5 5 1 1 6 1 5 6 5 1 6 2 3 3 6 1 2 5 2 6 4 2 6 4 5 5 3 3 5 5 2 1 2\n",
      " 5 6 4 2 3 2 3 2 3 2 2 6 2 1 3 6 2 6 4 5 2 1 5 2 5 6 4 4 2 4 5 1 2 2 4 4 1\n",
      " 4 1 6 5 1 5 2 5 3 1 5 1 4 5 2 5 3 1 1 2 6 6 4 6 1 5 1 1 3 6 3 1 6 2 4 6 4\n",
      " 3 2 1 3 5 2 1 3 1 4 5 6 1 5 4 2 3 6 4 2 4 6 1 3 5 5 2 4 6 2 2 3 2 3 2 5 5\n",
      " 5 3 5 6 5 2 4 6 6 3 2 6 3 4 6 6 1 5 5 3 6 5 2 2 4 2 5 2 5 4 1 1 3 3 1 5 1\n",
      " 2 2 4 6 6 2 3 4 2 6 3 1 6 5 1 1 5 6 2 1 3 5 4 1 5 4 1 2 4 1 2 1 4 1 4 4 2\n",
      " 5 2 2 5 2 2 6 2 2 4 5 2 4 3 2 5 6 2 5 3 2 3 2 2 1 3 4 4 2 2 5 1 2 2 6 3 4\n",
      " 5 1 2 6 2 1 2 3 4 5 3 6 4 1 2 2 6 6 6 2 1 5 3 1 4 4 5 3 3 1 1 6 5 3 5 2 2\n",
      " 5 3 3 4 5 6 2 2 2 1 6 4 1 6 3 4 6 3 4 4 4 6 1 5 1 5 3 2 1 3 4 6 3 5 6 6 1\n",
      " 5 2 2 2 5 2 3 2 4 4 3 4 1 6 3 2 3 3 1 2 5 6 6 3 5 4 1 5 4 3 4 4 2 4 1 6 3\n",
      " 6 3 1 4 5 3 2 2 1 2 3 2 1 2 6 4 2 5 4 1 3 3 3 4 2 4 1 4 4 3 6 3 1 4 2 6 2\n",
      " 5]\n",
      "<HDF5 dataset \"datad6\": shape (1000,), type \"<i4\">\n"
     ]
    }
   ],
   "source": [
    "#Abrimos el archivo y vemos que los datos estén correctos\n",
    "with h5py.File('d6.hd5','r') as file:\n",
    "    d=file['datad6']\n",
    "    print(d[:])\n",
    "    print(d)"
   ]
  },
  {
   "cell_type": "markdown",
   "metadata": {},
   "source": [
    "# Calificacion: 7.0"
   ]
  }
 ],
 "metadata": {
  "kernelspec": {
   "display_name": "Python 3",
   "language": "python",
   "name": "python3"
  },
  "language_info": {
   "codemirror_mode": {
    "name": "ipython",
    "version": 3
   },
   "file_extension": ".py",
   "mimetype": "text/x-python",
   "name": "python",
   "nbconvert_exporter": "python",
   "pygments_lexer": "ipython3",
   "version": "3.8.3"
  },
  "toc": {
   "base_numbering": 1,
   "nav_menu": {},
   "number_sections": true,
   "sideBar": true,
   "skip_h1_title": false,
   "title_cell": "Table of Contents",
   "title_sidebar": "Contents",
   "toc_cell": false,
   "toc_position": {},
   "toc_section_display": true,
   "toc_window_display": false
  }
 },
 "nbformat": 4,
 "nbformat_minor": 5
}
